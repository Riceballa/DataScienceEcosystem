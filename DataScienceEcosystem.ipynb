{
 "cells": [
  {
   "cell_type": "markdown",
   "id": "128fe7be-0ade-487d-85c3-0490f270e370",
   "metadata": {},
   "source": [
    "# Data Science Tools and Ecoystem"
   ]
  },
  {
   "cell_type": "markdown",
   "id": "08c42414-8532-46ec-bb1b-7f84d70421af",
   "metadata": {},
   "source": [
    "In this notebook, Data Science tools and Ecosystem are summarized"
   ]
  },
  {
   "cell_type": "markdown",
   "id": "2df22637-fc12-468c-a746-3a38ba22d8b0",
   "metadata": {},
   "source": [
    "**Objectives**\n",
    "- List popular languages in Data Science\n",
    "- List common libraries in data science \n",
    "- Data Science Tools "
   ]
  },
  {
   "cell_type": "markdown",
   "id": "3984bc6c-6dca-4548-9b56-192031409010",
   "metadata": {},
   "source": [
    "Some of the popular languages that Data Scientist use are: \n",
    "1. Python\n",
    "2. R\n",
    "3. SQL"
   ]
  },
  {
   "cell_type": "markdown",
   "id": "0f30d23e-7175-423e-9db9-af21d2161503",
   "metadata": {},
   "source": [
    "Some of the commonly used libraries used by Data Scientists include: \n",
    "1. Sci-kit learn \n",
    "2. Pandas \n",
    "3. Matplotlib"
   ]
  },
  {
   "cell_type": "markdown",
   "id": "3f7ccafa-7827-4ebb-8380-153bc41a0732",
   "metadata": {},
   "source": [
    "|Data Science Tools|\n",
    "|------|\n",
    "|kaggle|\n",
    "|government|\n",
    "|data catalogs.org|"
   ]
  },
  {
   "cell_type": "markdown",
   "id": "cacb2c7f-f98e-4a84-b667-49fee227a29c",
   "metadata": {},
   "source": [
    "### Below are a few examples of evaluating arithmetic expressions in Python"
   ]
  },
  {
   "cell_type": "code",
   "execution_count": 23,
   "id": "6d835e1a-7ded-4906-89a8-c276d9c83ea2",
   "metadata": {},
   "outputs": [
    {
     "data": {
      "text/plain": [
       "17"
      ]
     },
     "execution_count": 23,
     "metadata": {},
     "output_type": "execute_result"
    }
   ],
   "source": [
    "# This is a simple arithmetic expression\n",
    "(3*4)+5"
   ]
  },
  {
   "cell_type": "code",
   "execution_count": 15,
   "id": "119e4724-b89b-41e9-9dad-698a6300e596",
   "metadata": {},
   "outputs": [
    {
     "data": {
      "text/plain": [
       "3.3333333333333335"
      ]
     },
     "execution_count": 15,
     "metadata": {},
     "output_type": "execute_result"
    }
   ],
   "source": [
    "# This will convert 200 minutes to hours by dividing by 60 \n",
    "200/60"
   ]
  },
  {
   "cell_type": "markdown",
   "id": "56374f70-fc83-405b-80e3-d6965a9e14f4",
   "metadata": {},
   "source": [
    "## Author\n",
    "Tanner "
   ]
  },
  {
   "cell_type": "code",
   "execution_count": null,
   "id": "eb192d90-1337-4771-8531-77b07ddbebfe",
   "metadata": {},
   "outputs": [],
   "source": []
  }
 ],
 "metadata": {
  "kernelspec": {
   "display_name": "anaconda-ai-2024.04-py310",
   "language": "python",
   "name": "conda-env-anaconda-ai-2024.04-py310-py"
  },
  "language_info": {
   "codemirror_mode": {
    "name": "ipython",
    "version": 3
   },
   "file_extension": ".py",
   "mimetype": "text/x-python",
   "name": "python",
   "nbconvert_exporter": "python",
   "pygments_lexer": "ipython3",
   "version": "3.10.13"
  }
 },
 "nbformat": 4,
 "nbformat_minor": 5
}
